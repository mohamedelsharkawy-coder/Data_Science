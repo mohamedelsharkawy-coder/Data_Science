{
 "cells": [
  {
   "cell_type": "markdown",
   "id": "b3701a28",
   "metadata": {},
   "source": [
    "# \" Heart failure Project \""
   ]
  },
  {
   "cell_type": "markdown",
   "id": "f5b127c2",
   "metadata": {},
   "source": [
    "#  - Idea :"
   ]
  },
  {
   "cell_type": "code",
   "execution_count": 1,
   "id": "f92efff3",
   "metadata": {},
   "outputs": [],
   "source": [
    "# Idea is according to the dataset features of heart failure,\n",
    "# We can create a model for predicting mortality caused by Heart Failure.\n",
    "# We can make use of it to take procedures to keep people in good health."
   ]
  },
  {
   "cell_type": "markdown",
   "id": "a3978285",
   "metadata": {},
   "source": [
    "# - Libraries to work with dataset :"
   ]
  },
  {
   "cell_type": "code",
   "execution_count": 2,
   "id": "f05633e7",
   "metadata": {},
   "outputs": [],
   "source": [
    "import pandas as pd  # Dealing with series and dataframes\n",
    "#import seaborn as sns # has built-in datasets and data_visualization\n",
    "import matplotlib.pyplot as plt # To make data_visualization \n",
    "from sklearn.preprocessing import StandardScaler  # To make Scaling (Standardization)\n",
    "from sklearn.model_selection import train_test_split  # To split the dataset (train,test)\n",
    "from sklearn.neighbors import KNeighborsClassifier\n",
    "from sklearn.naive_bayes import GaussianNB\n",
    "from sklearn import svm\n",
    "import sklearn.metrics as mc "
   ]
  },
  {
   "cell_type": "markdown",
   "id": "458458cb",
   "metadata": {},
   "source": [
    "# - Dataset : "
   ]
  },
  {
   "cell_type": "code",
   "execution_count": 3,
   "id": "8d2c6de6",
   "metadata": {},
   "outputs": [
    {
     "data": {
      "text/html": [
       "<div>\n",
       "<style scoped>\n",
       "    .dataframe tbody tr th:only-of-type {\n",
       "        vertical-align: middle;\n",
       "    }\n",
       "\n",
       "    .dataframe tbody tr th {\n",
       "        vertical-align: top;\n",
       "    }\n",
       "\n",
       "    .dataframe thead th {\n",
       "        text-align: right;\n",
       "    }\n",
       "</style>\n",
       "<table border=\"1\" class=\"dataframe\">\n",
       "  <thead>\n",
       "    <tr style=\"text-align: right;\">\n",
       "      <th></th>\n",
       "      <th>age</th>\n",
       "      <th>anaemia</th>\n",
       "      <th>creatinine_phosphokinase</th>\n",
       "      <th>diabetes</th>\n",
       "      <th>ejection_fraction</th>\n",
       "      <th>high_blood_pressure</th>\n",
       "      <th>platelets</th>\n",
       "      <th>serum_creatinine</th>\n",
       "      <th>serum_sodium</th>\n",
       "      <th>sex</th>\n",
       "      <th>smoking</th>\n",
       "      <th>time</th>\n",
       "      <th>DEATH_EVENT</th>\n",
       "    </tr>\n",
       "  </thead>\n",
       "  <tbody>\n",
       "    <tr>\n",
       "      <th>0</th>\n",
       "      <td>75.0</td>\n",
       "      <td>0</td>\n",
       "      <td>582</td>\n",
       "      <td>0</td>\n",
       "      <td>20</td>\n",
       "      <td>1</td>\n",
       "      <td>265000.00</td>\n",
       "      <td>1.9</td>\n",
       "      <td>130</td>\n",
       "      <td>1</td>\n",
       "      <td>0</td>\n",
       "      <td>4</td>\n",
       "      <td>1</td>\n",
       "    </tr>\n",
       "    <tr>\n",
       "      <th>1</th>\n",
       "      <td>55.0</td>\n",
       "      <td>0</td>\n",
       "      <td>7861</td>\n",
       "      <td>0</td>\n",
       "      <td>38</td>\n",
       "      <td>0</td>\n",
       "      <td>263358.03</td>\n",
       "      <td>1.1</td>\n",
       "      <td>136</td>\n",
       "      <td>1</td>\n",
       "      <td>0</td>\n",
       "      <td>6</td>\n",
       "      <td>1</td>\n",
       "    </tr>\n",
       "    <tr>\n",
       "      <th>2</th>\n",
       "      <td>65.0</td>\n",
       "      <td>0</td>\n",
       "      <td>146</td>\n",
       "      <td>0</td>\n",
       "      <td>20</td>\n",
       "      <td>0</td>\n",
       "      <td>162000.00</td>\n",
       "      <td>1.3</td>\n",
       "      <td>129</td>\n",
       "      <td>1</td>\n",
       "      <td>1</td>\n",
       "      <td>7</td>\n",
       "      <td>1</td>\n",
       "    </tr>\n",
       "    <tr>\n",
       "      <th>3</th>\n",
       "      <td>50.0</td>\n",
       "      <td>1</td>\n",
       "      <td>111</td>\n",
       "      <td>0</td>\n",
       "      <td>20</td>\n",
       "      <td>0</td>\n",
       "      <td>210000.00</td>\n",
       "      <td>1.9</td>\n",
       "      <td>137</td>\n",
       "      <td>1</td>\n",
       "      <td>0</td>\n",
       "      <td>7</td>\n",
       "      <td>1</td>\n",
       "    </tr>\n",
       "    <tr>\n",
       "      <th>4</th>\n",
       "      <td>65.0</td>\n",
       "      <td>1</td>\n",
       "      <td>160</td>\n",
       "      <td>1</td>\n",
       "      <td>20</td>\n",
       "      <td>0</td>\n",
       "      <td>327000.00</td>\n",
       "      <td>2.7</td>\n",
       "      <td>116</td>\n",
       "      <td>0</td>\n",
       "      <td>0</td>\n",
       "      <td>8</td>\n",
       "      <td>1</td>\n",
       "    </tr>\n",
       "    <tr>\n",
       "      <th>...</th>\n",
       "      <td>...</td>\n",
       "      <td>...</td>\n",
       "      <td>...</td>\n",
       "      <td>...</td>\n",
       "      <td>...</td>\n",
       "      <td>...</td>\n",
       "      <td>...</td>\n",
       "      <td>...</td>\n",
       "      <td>...</td>\n",
       "      <td>...</td>\n",
       "      <td>...</td>\n",
       "      <td>...</td>\n",
       "      <td>...</td>\n",
       "    </tr>\n",
       "    <tr>\n",
       "      <th>294</th>\n",
       "      <td>62.0</td>\n",
       "      <td>0</td>\n",
       "      <td>61</td>\n",
       "      <td>1</td>\n",
       "      <td>38</td>\n",
       "      <td>1</td>\n",
       "      <td>155000.00</td>\n",
       "      <td>1.1</td>\n",
       "      <td>143</td>\n",
       "      <td>1</td>\n",
       "      <td>1</td>\n",
       "      <td>270</td>\n",
       "      <td>0</td>\n",
       "    </tr>\n",
       "    <tr>\n",
       "      <th>295</th>\n",
       "      <td>55.0</td>\n",
       "      <td>0</td>\n",
       "      <td>1820</td>\n",
       "      <td>0</td>\n",
       "      <td>38</td>\n",
       "      <td>0</td>\n",
       "      <td>270000.00</td>\n",
       "      <td>1.2</td>\n",
       "      <td>139</td>\n",
       "      <td>0</td>\n",
       "      <td>0</td>\n",
       "      <td>271</td>\n",
       "      <td>0</td>\n",
       "    </tr>\n",
       "    <tr>\n",
       "      <th>296</th>\n",
       "      <td>45.0</td>\n",
       "      <td>0</td>\n",
       "      <td>2060</td>\n",
       "      <td>1</td>\n",
       "      <td>60</td>\n",
       "      <td>0</td>\n",
       "      <td>742000.00</td>\n",
       "      <td>0.8</td>\n",
       "      <td>138</td>\n",
       "      <td>0</td>\n",
       "      <td>0</td>\n",
       "      <td>278</td>\n",
       "      <td>0</td>\n",
       "    </tr>\n",
       "    <tr>\n",
       "      <th>297</th>\n",
       "      <td>45.0</td>\n",
       "      <td>0</td>\n",
       "      <td>2413</td>\n",
       "      <td>0</td>\n",
       "      <td>38</td>\n",
       "      <td>0</td>\n",
       "      <td>140000.00</td>\n",
       "      <td>1.4</td>\n",
       "      <td>140</td>\n",
       "      <td>1</td>\n",
       "      <td>1</td>\n",
       "      <td>280</td>\n",
       "      <td>0</td>\n",
       "    </tr>\n",
       "    <tr>\n",
       "      <th>298</th>\n",
       "      <td>50.0</td>\n",
       "      <td>0</td>\n",
       "      <td>196</td>\n",
       "      <td>0</td>\n",
       "      <td>45</td>\n",
       "      <td>0</td>\n",
       "      <td>395000.00</td>\n",
       "      <td>1.6</td>\n",
       "      <td>136</td>\n",
       "      <td>1</td>\n",
       "      <td>1</td>\n",
       "      <td>285</td>\n",
       "      <td>0</td>\n",
       "    </tr>\n",
       "  </tbody>\n",
       "</table>\n",
       "<p>299 rows × 13 columns</p>\n",
       "</div>"
      ],
      "text/plain": [
       "      age  anaemia  creatinine_phosphokinase  diabetes  ejection_fraction  \\\n",
       "0    75.0        0                       582         0                 20   \n",
       "1    55.0        0                      7861         0                 38   \n",
       "2    65.0        0                       146         0                 20   \n",
       "3    50.0        1                       111         0                 20   \n",
       "4    65.0        1                       160         1                 20   \n",
       "..    ...      ...                       ...       ...                ...   \n",
       "294  62.0        0                        61         1                 38   \n",
       "295  55.0        0                      1820         0                 38   \n",
       "296  45.0        0                      2060         1                 60   \n",
       "297  45.0        0                      2413         0                 38   \n",
       "298  50.0        0                       196         0                 45   \n",
       "\n",
       "     high_blood_pressure  platelets  serum_creatinine  serum_sodium  sex  \\\n",
       "0                      1  265000.00               1.9           130    1   \n",
       "1                      0  263358.03               1.1           136    1   \n",
       "2                      0  162000.00               1.3           129    1   \n",
       "3                      0  210000.00               1.9           137    1   \n",
       "4                      0  327000.00               2.7           116    0   \n",
       "..                   ...        ...               ...           ...  ...   \n",
       "294                    1  155000.00               1.1           143    1   \n",
       "295                    0  270000.00               1.2           139    0   \n",
       "296                    0  742000.00               0.8           138    0   \n",
       "297                    0  140000.00               1.4           140    1   \n",
       "298                    0  395000.00               1.6           136    1   \n",
       "\n",
       "     smoking  time  DEATH_EVENT  \n",
       "0          0     4            1  \n",
       "1          0     6            1  \n",
       "2          1     7            1  \n",
       "3          0     7            1  \n",
       "4          0     8            1  \n",
       "..       ...   ...          ...  \n",
       "294        1   270            0  \n",
       "295        0   271            0  \n",
       "296        0   278            0  \n",
       "297        1   280            0  \n",
       "298        1   285            0  \n",
       "\n",
       "[299 rows x 13 columns]"
      ]
     },
     "execution_count": 3,
     "metadata": {},
     "output_type": "execute_result"
    }
   ],
   "source": [
    "data = pd.read_csv(\"heart_failure_records.csv\")\n",
    "data"
   ]
  },
  {
   "cell_type": "markdown",
   "id": "0eecf605",
   "metadata": {},
   "source": [
    " # - Understanding dataset : "
   ]
  },
  {
   "cell_type": "code",
   "execution_count": 4,
   "id": "169b81a5",
   "metadata": {},
   "outputs": [],
   "source": [
    "#information about data:\n",
    "    # heart_failure: \n",
    "        # Heart failure means that the heart is unable to pump blood around the body properly. \n",
    "        # Heart failure does not mean your heart has stopped working.\n",
    "    \n",
    "    # anaemia: Decrease of red blood cells or hemoglobin (boolean)\n",
    "    \n",
    "    # creatine_phosphokinase: Level of the CPK/CK enzyme in the blood (mcg/L)\n",
    "        # Function: provide cells with Energy (ATP)\n",
    "        # Normal: 10 to 120 micrograms per liter (mcg/L)\n",
    "        # Form: (CK-MB) \n",
    "    \n",
    "    # ejection_fraction: Percentage of blood leaving the heart at each contraction (percentage)\n",
    "        # if it equal 20 means that 20% of the whole blood is pumped and 80% still in the heart.\n",
    "    \n",
    "    # Platelets: Platelets in the blood (kiloplatelets/mL)\n",
    "        # Normal: From ( 150,000 kiloplatelets/ml ) to ( 450,000 kiloplatelets/ml )  \n",
    "    \n",
    "    # serum_creatinine: Level of serum creatinine in the blood (mg/dL)\n",
    "        # level of creatinine determine if kidney work carefully or not as it should get rid of creatinine\n",
    "        # heart can't transfer the blood for all the body ( kidney so, it doesn't work well and creatinine increase in the blood )\n",
    "        # Normal: ( Men:  0.74 to 1.35 mg/dL ) and ( Women: 0.59 to 1.04 mg/dL )\n",
    "    \n",
    "    # serum_sodium: Level of serum sodium in the blood (mEq/L)\n",
    "        # Normal: between 135 and 145 milliequivalents per liter\n",
    "        # Increase the sodium increase the blood pressure and so leads to heart failure.\n",
    "    # time: Follow-up period (days)"
   ]
  },
  {
   "cell_type": "markdown",
   "id": "db93a5a6",
   "metadata": {},
   "source": [
    "# - Make data more meaningful, according to what we understood :"
   ]
  },
  {
   "cell_type": "code",
   "execution_count": 5,
   "id": "006b00be",
   "metadata": {},
   "outputs": [
    {
     "data": {
      "text/html": [
       "<div>\n",
       "<style scoped>\n",
       "    .dataframe tbody tr th:only-of-type {\n",
       "        vertical-align: middle;\n",
       "    }\n",
       "\n",
       "    .dataframe tbody tr th {\n",
       "        vertical-align: top;\n",
       "    }\n",
       "\n",
       "    .dataframe thead th {\n",
       "        text-align: right;\n",
       "    }\n",
       "</style>\n",
       "<table border=\"1\" class=\"dataframe\">\n",
       "  <thead>\n",
       "    <tr style=\"text-align: right;\">\n",
       "      <th></th>\n",
       "      <th>age</th>\n",
       "      <th>anaemia</th>\n",
       "      <th>creatinine_phosphokinase_mcg_per_L</th>\n",
       "      <th>diabetes</th>\n",
       "      <th>ejection_fraction_percentage</th>\n",
       "      <th>high_blood_pressure</th>\n",
       "      <th>platelets_kiloplatelets_per_mL</th>\n",
       "      <th>serum_creatinine_mg_per_dL</th>\n",
       "      <th>serum_sodium_mEq_per_L</th>\n",
       "      <th>sex</th>\n",
       "      <th>smoking</th>\n",
       "      <th>Care_Time_Days</th>\n",
       "      <th>DEATH_EVENT</th>\n",
       "    </tr>\n",
       "  </thead>\n",
       "  <tbody>\n",
       "    <tr>\n",
       "      <th>0</th>\n",
       "      <td>75.0</td>\n",
       "      <td>0</td>\n",
       "      <td>582</td>\n",
       "      <td>0</td>\n",
       "      <td>20</td>\n",
       "      <td>1</td>\n",
       "      <td>265000.00</td>\n",
       "      <td>1.9</td>\n",
       "      <td>130</td>\n",
       "      <td>1</td>\n",
       "      <td>0</td>\n",
       "      <td>4</td>\n",
       "      <td>1</td>\n",
       "    </tr>\n",
       "    <tr>\n",
       "      <th>1</th>\n",
       "      <td>55.0</td>\n",
       "      <td>0</td>\n",
       "      <td>7861</td>\n",
       "      <td>0</td>\n",
       "      <td>38</td>\n",
       "      <td>0</td>\n",
       "      <td>263358.03</td>\n",
       "      <td>1.1</td>\n",
       "      <td>136</td>\n",
       "      <td>1</td>\n",
       "      <td>0</td>\n",
       "      <td>6</td>\n",
       "      <td>1</td>\n",
       "    </tr>\n",
       "    <tr>\n",
       "      <th>2</th>\n",
       "      <td>65.0</td>\n",
       "      <td>0</td>\n",
       "      <td>146</td>\n",
       "      <td>0</td>\n",
       "      <td>20</td>\n",
       "      <td>0</td>\n",
       "      <td>162000.00</td>\n",
       "      <td>1.3</td>\n",
       "      <td>129</td>\n",
       "      <td>1</td>\n",
       "      <td>1</td>\n",
       "      <td>7</td>\n",
       "      <td>1</td>\n",
       "    </tr>\n",
       "    <tr>\n",
       "      <th>3</th>\n",
       "      <td>50.0</td>\n",
       "      <td>1</td>\n",
       "      <td>111</td>\n",
       "      <td>0</td>\n",
       "      <td>20</td>\n",
       "      <td>0</td>\n",
       "      <td>210000.00</td>\n",
       "      <td>1.9</td>\n",
       "      <td>137</td>\n",
       "      <td>1</td>\n",
       "      <td>0</td>\n",
       "      <td>7</td>\n",
       "      <td>1</td>\n",
       "    </tr>\n",
       "    <tr>\n",
       "      <th>4</th>\n",
       "      <td>65.0</td>\n",
       "      <td>1</td>\n",
       "      <td>160</td>\n",
       "      <td>1</td>\n",
       "      <td>20</td>\n",
       "      <td>0</td>\n",
       "      <td>327000.00</td>\n",
       "      <td>2.7</td>\n",
       "      <td>116</td>\n",
       "      <td>0</td>\n",
       "      <td>0</td>\n",
       "      <td>8</td>\n",
       "      <td>1</td>\n",
       "    </tr>\n",
       "    <tr>\n",
       "      <th>...</th>\n",
       "      <td>...</td>\n",
       "      <td>...</td>\n",
       "      <td>...</td>\n",
       "      <td>...</td>\n",
       "      <td>...</td>\n",
       "      <td>...</td>\n",
       "      <td>...</td>\n",
       "      <td>...</td>\n",
       "      <td>...</td>\n",
       "      <td>...</td>\n",
       "      <td>...</td>\n",
       "      <td>...</td>\n",
       "      <td>...</td>\n",
       "    </tr>\n",
       "    <tr>\n",
       "      <th>294</th>\n",
       "      <td>62.0</td>\n",
       "      <td>0</td>\n",
       "      <td>61</td>\n",
       "      <td>1</td>\n",
       "      <td>38</td>\n",
       "      <td>1</td>\n",
       "      <td>155000.00</td>\n",
       "      <td>1.1</td>\n",
       "      <td>143</td>\n",
       "      <td>1</td>\n",
       "      <td>1</td>\n",
       "      <td>270</td>\n",
       "      <td>0</td>\n",
       "    </tr>\n",
       "    <tr>\n",
       "      <th>295</th>\n",
       "      <td>55.0</td>\n",
       "      <td>0</td>\n",
       "      <td>1820</td>\n",
       "      <td>0</td>\n",
       "      <td>38</td>\n",
       "      <td>0</td>\n",
       "      <td>270000.00</td>\n",
       "      <td>1.2</td>\n",
       "      <td>139</td>\n",
       "      <td>0</td>\n",
       "      <td>0</td>\n",
       "      <td>271</td>\n",
       "      <td>0</td>\n",
       "    </tr>\n",
       "    <tr>\n",
       "      <th>296</th>\n",
       "      <td>45.0</td>\n",
       "      <td>0</td>\n",
       "      <td>2060</td>\n",
       "      <td>1</td>\n",
       "      <td>60</td>\n",
       "      <td>0</td>\n",
       "      <td>742000.00</td>\n",
       "      <td>0.8</td>\n",
       "      <td>138</td>\n",
       "      <td>0</td>\n",
       "      <td>0</td>\n",
       "      <td>278</td>\n",
       "      <td>0</td>\n",
       "    </tr>\n",
       "    <tr>\n",
       "      <th>297</th>\n",
       "      <td>45.0</td>\n",
       "      <td>0</td>\n",
       "      <td>2413</td>\n",
       "      <td>0</td>\n",
       "      <td>38</td>\n",
       "      <td>0</td>\n",
       "      <td>140000.00</td>\n",
       "      <td>1.4</td>\n",
       "      <td>140</td>\n",
       "      <td>1</td>\n",
       "      <td>1</td>\n",
       "      <td>280</td>\n",
       "      <td>0</td>\n",
       "    </tr>\n",
       "    <tr>\n",
       "      <th>298</th>\n",
       "      <td>50.0</td>\n",
       "      <td>0</td>\n",
       "      <td>196</td>\n",
       "      <td>0</td>\n",
       "      <td>45</td>\n",
       "      <td>0</td>\n",
       "      <td>395000.00</td>\n",
       "      <td>1.6</td>\n",
       "      <td>136</td>\n",
       "      <td>1</td>\n",
       "      <td>1</td>\n",
       "      <td>285</td>\n",
       "      <td>0</td>\n",
       "    </tr>\n",
       "  </tbody>\n",
       "</table>\n",
       "<p>299 rows × 13 columns</p>\n",
       "</div>"
      ],
      "text/plain": [
       "      age  anaemia  creatinine_phosphokinase_mcg_per_L  diabetes  \\\n",
       "0    75.0        0                                 582         0   \n",
       "1    55.0        0                                7861         0   \n",
       "2    65.0        0                                 146         0   \n",
       "3    50.0        1                                 111         0   \n",
       "4    65.0        1                                 160         1   \n",
       "..    ...      ...                                 ...       ...   \n",
       "294  62.0        0                                  61         1   \n",
       "295  55.0        0                                1820         0   \n",
       "296  45.0        0                                2060         1   \n",
       "297  45.0        0                                2413         0   \n",
       "298  50.0        0                                 196         0   \n",
       "\n",
       "     ejection_fraction_percentage  high_blood_pressure  \\\n",
       "0                              20                    1   \n",
       "1                              38                    0   \n",
       "2                              20                    0   \n",
       "3                              20                    0   \n",
       "4                              20                    0   \n",
       "..                            ...                  ...   \n",
       "294                            38                    1   \n",
       "295                            38                    0   \n",
       "296                            60                    0   \n",
       "297                            38                    0   \n",
       "298                            45                    0   \n",
       "\n",
       "     platelets_kiloplatelets_per_mL  serum_creatinine_mg_per_dL  \\\n",
       "0                         265000.00                         1.9   \n",
       "1                         263358.03                         1.1   \n",
       "2                         162000.00                         1.3   \n",
       "3                         210000.00                         1.9   \n",
       "4                         327000.00                         2.7   \n",
       "..                              ...                         ...   \n",
       "294                       155000.00                         1.1   \n",
       "295                       270000.00                         1.2   \n",
       "296                       742000.00                         0.8   \n",
       "297                       140000.00                         1.4   \n",
       "298                       395000.00                         1.6   \n",
       "\n",
       "     serum_sodium_mEq_per_L  sex  smoking  Care_Time_Days  DEATH_EVENT  \n",
       "0                       130    1        0               4            1  \n",
       "1                       136    1        0               6            1  \n",
       "2                       129    1        1               7            1  \n",
       "3                       137    1        0               7            1  \n",
       "4                       116    0        0               8            1  \n",
       "..                      ...  ...      ...             ...          ...  \n",
       "294                     143    1        1             270            0  \n",
       "295                     139    0        0             271            0  \n",
       "296                     138    0        0             278            0  \n",
       "297                     140    1        1             280            0  \n",
       "298                     136    1        1             285            0  \n",
       "\n",
       "[299 rows x 13 columns]"
      ]
     },
     "execution_count": 5,
     "metadata": {},
     "output_type": "execute_result"
    }
   ],
   "source": [
    "data.rename({\"creatinine_phosphokinase\":\"creatinine_phosphokinase_mcg_per_L\",\"ejection_fraction\":\"ejection_fraction_percentage\",\"platelets\":\"platelets_kiloplatelets_per_mL\",\"serum_creatinine\":\"serum_creatinine_mg_per_dL\",\"serum_sodium\":\"serum_sodium_mEq_per_L\",\"time\":\"Care_Time_Days\"},axis=1,inplace=True)\n",
    "data"
   ]
  },
  {
   "cell_type": "markdown",
   "id": "914a3296",
   "metadata": {},
   "source": [
    "NOTE : According to the idea and data set we will make Supervised machine learning model (Classification algorithms)"
   ]
  },
  {
   "cell_type": "markdown",
   "id": "f1aea0f3",
   "metadata": {},
   "source": [
    "# - Dataset has no missing values :"
   ]
  },
  {
   "cell_type": "code",
   "execution_count": 6,
   "id": "e4786997",
   "metadata": {},
   "outputs": [
    {
     "data": {
      "text/plain": [
       "age                                   0\n",
       "anaemia                               0\n",
       "creatinine_phosphokinase_mcg_per_L    0\n",
       "diabetes                              0\n",
       "ejection_fraction_percentage          0\n",
       "high_blood_pressure                   0\n",
       "platelets_kiloplatelets_per_mL        0\n",
       "serum_creatinine_mg_per_dL            0\n",
       "serum_sodium_mEq_per_L                0\n",
       "sex                                   0\n",
       "smoking                               0\n",
       "Care_Time_Days                        0\n",
       "DEATH_EVENT                           0\n",
       "dtype: int64"
      ]
     },
     "execution_count": 6,
     "metadata": {},
     "output_type": "execute_result"
    }
   ],
   "source": [
    "data.isna().sum()"
   ]
  },
  {
   "cell_type": "markdown",
   "id": "455ea566",
   "metadata": {},
   "source": [
    " # - Dataset has no categorical data :"
   ]
  },
  {
   "cell_type": "code",
   "execution_count": 7,
   "id": "877f12c7",
   "metadata": {},
   "outputs": [
    {
     "data": {
      "text/plain": [
       "age                                   float64\n",
       "anaemia                                 int64\n",
       "creatinine_phosphokinase_mcg_per_L      int64\n",
       "diabetes                                int64\n",
       "ejection_fraction_percentage            int64\n",
       "high_blood_pressure                     int64\n",
       "platelets_kiloplatelets_per_mL        float64\n",
       "serum_creatinine_mg_per_dL            float64\n",
       "serum_sodium_mEq_per_L                  int64\n",
       "sex                                     int64\n",
       "smoking                                 int64\n",
       "Care_Time_Days                          int64\n",
       "DEATH_EVENT                             int64\n",
       "dtype: object"
      ]
     },
     "execution_count": 7,
     "metadata": {},
     "output_type": "execute_result"
    }
   ],
   "source": [
    "data.dtypes"
   ]
  },
  {
   "cell_type": "markdown",
   "id": "691daa17",
   "metadata": {},
   "source": [
    "# - Spliting dataset (Train_Test) : "
   ]
  },
  {
   "cell_type": "code",
   "execution_count": 8,
   "id": "88eb2c8d",
   "metadata": {},
   "outputs": [],
   "source": [
    "# In this model : X --> all columns except (DEATH_EVENT) , Y --> DEATH_EVENT column\n",
    "x = data.iloc[:,:-1]\n",
    "y = data[[\"DEATH_EVENT\"]]\n",
    "x_train,x_test,y_train,y_test = train_test_split(x,y,train_size=0.8,random_state=0) "
   ]
  },
  {
   "cell_type": "markdown",
   "id": "c2c23228",
   "metadata": {},
   "source": [
    "#  - Scaling : Standardization(standardscaler)"
   ]
  },
  {
   "cell_type": "code",
   "execution_count": 9,
   "id": "173b8724",
   "metadata": {},
   "outputs": [],
   "source": [
    "# Scaling done on the ( x_train, x_test )\n",
    "std = StandardScaler()\n",
    "x_train_std = std.fit_transform(x_train)\n",
    "x_test_std = std.fit_transform(x_test)"
   ]
  },
  {
   "cell_type": "markdown",
   "id": "742c4dd4",
   "metadata": {},
   "source": [
    "# - Scatter data_visualization (Before / After Scaling) : "
   ]
  },
  {
   "cell_type": "code",
   "execution_count": 10,
   "id": "f7dc7081",
   "metadata": {},
   "outputs": [
    {
     "data": {
      "image/png": "[encoded data removed]",
      "text/plain": [
       "<Figure size 432x288 with 1 Axes>"
      ]
     },
     "metadata": {
      "needs_background": "light"
     },
     "output_type": "display_data"
    }
   ],
   "source": [
    "# Before scaling : \n",
    "plt.scatter(x_train[[\"age\"]],y_train)\n",
    "plt.scatter(x_train[[\"anaemia\"]],y_train)\n",
    "plt.scatter(x_train[[\"creatinine_phosphokinase_mcg_per_L\"]],y_train)\n",
    "plt.scatter(x_train[[\"diabetes\"]],y_train)\n",
    "plt.scatter(x_train[[\"ejection_fraction_percentage\"]],y_train)\n",
    "plt.scatter(x_train[[\"high_blood_pressure\"]],y_train)\n",
    "plt.scatter(x_train[[\"platelets_kiloplatelets_per_mL\"]],y_train)\n",
    "plt.scatter(x_train[[\"serum_creatinine_mg_per_dL\"]],y_train)\n",
    "plt.scatter(x_train[[\"serum_sodium_mEq_per_L\"]],y_train)\n",
    "plt.scatter(x_train[[\"sex\"]],y_train)\n",
    "plt.scatter(x_train[[\"smoking\"]],y_train)\n",
    "plt.scatter(x_train[[\"Care_Time_Days\"]],y_train)\n",
    "plt.show()"
   ]
  },
  {
   "cell_type": "code",
   "execution_count": 11,
   "id": "99162ee1",
   "metadata": {},
   "outputs": [
    {
     "data": {
      "image/png": "[encoded data removed]",
      "text/plain": [
       "<Figure size 432x288 with 1 Axes>"
      ]
     },
     "metadata": {
      "needs_background": "light"
     },
     "output_type": "display_data"
    }
   ],
   "source": [
    "# After scaling : \n",
    "plt.scatter(x_train_std[:,0],y_train)\n",
    "plt.scatter(x_train_std[:,1],y_train)\n",
    "plt.scatter(x_train_std[:,2],y_train)\n",
    "plt.scatter(x_train_std[:,3],y_train)\n",
    "plt.scatter(x_train_std[:,4],y_train)\n",
    "plt.scatter(x_train_std[:,5],y_train)\n",
    "plt.scatter(x_train_std[:,6],y_train)\n",
    "plt.scatter(x_train_std[:,7],y_train)\n",
    "plt.scatter(x_train_std[:,8],y_train)\n",
    "plt.scatter(x_train_std[:,9],y_train)\n",
    "plt.scatter(x_train_std[:,10],y_train)\n",
    "plt.scatter(x_train_std[:,11],y_train)\n",
    "plt.show()"
   ]
  },
  {
   "cell_type": "markdown",
   "id": "7c754058",
   "metadata": {},
   "source": [
    "#  - Using classification ML models algorithms ( KNN, NB, SVM ) : "
   ]
  },
  {
   "cell_type": "markdown",
   "id": "2142ecbf",
   "metadata": {},
   "source": [
    "#  - Model1 ( KNN ) :"
   ]
  },
  {
   "cell_type": "code",
   "execution_count": 12,
   "id": "d9c1cbd6",
   "metadata": {},
   "outputs": [
    {
     "name": "stdout",
     "output_type": "stream",
     "text": [
      "accuracy :  0.7333333333333333\n",
      "mean_squared_error:  0.26666666666666666\n"
     ]
    },
    {
     "name": "stderr",
     "output_type": "stream",
     "text": [
      "c:\\users\\h p\\appdata\\local\\programs\\python\\python39\\lib\\site-packages\\sklearn\\neighbors\\_classification.py:179: DataConversionWarning: A column-vector y was passed when a 1d array was expected. Please change the shape of y to (n_samples,), for example using ravel().\n",
      "  return self._fit(X, y)\n"
     ]
    }
   ],
   "source": [
    "model1 = KNeighborsClassifier(n_neighbors=5)  # by default ---> 5\n",
    "model1.fit(x_train_std,y_train)\n",
    "y_model1_std = model1.predict(x_test_std)\n",
    "error1_accuracy = mc.accuracy_score(y_test,y_model1_std)\n",
    "print(\"accuracy : \",error1_accuracy)\n",
    "error1_mean_squared = mc.mean_squared_error(y_test,y_model1_std)\n",
    "print(\"mean_squared_error: \",error1_mean_squared)"
   ]
  },
  {
   "cell_type": "markdown",
   "id": "9e6f1e4d",
   "metadata": {},
   "source": [
    "#  - Model2 ( NB ) : "
   ]
  },
  {
   "cell_type": "code",
   "execution_count": 13,
   "id": "5bf3f301",
   "metadata": {},
   "outputs": [
    {
     "name": "stdout",
     "output_type": "stream",
     "text": [
      "accuracy :  0.6833333333333333\n",
      "mean_squared_error:  0.31666666666666665\n"
     ]
    },
    {
     "name": "stderr",
     "output_type": "stream",
     "text": [
      "c:\\users\\h p\\appdata\\local\\programs\\python\\python39\\lib\\site-packages\\sklearn\\utils\\validation.py:63: DataConversionWarning: A column-vector y was passed when a 1d array was expected. Please change the shape of y to (n_samples, ), for example using ravel().\n",
      "  return f(*args, **kwargs)\n"
     ]
    }
   ],
   "source": [
    "model2 = GaussianNB()  \n",
    "model2.fit(x_train_std,y_train)\n",
    "y_model2_std = model2.predict(x_test_std)\n",
    "error2_accuracy = mc.accuracy_score(y_test,y_model2_std)\n",
    "print(\"accuracy : \",error2_accuracy)\n",
    "error2_mean_squared = mc.mean_squared_error(y_test,y_model2_std)\n",
    "print(\"mean_squared_error: \",error2_mean_squared)"
   ]
  },
  {
   "cell_type": "markdown",
   "id": "b93a96ae",
   "metadata": {},
   "source": [
    "# Model3 ( SVM ) :"
   ]
  },
  {
   "cell_type": "markdown",
   "id": "07978e17",
   "metadata": {},
   "source": [
    "#  - kernel = \"linear\""
   ]
  },
  {
   "cell_type": "code",
   "execution_count": 14,
   "id": "4b456621",
   "metadata": {},
   "outputs": [
    {
     "name": "stdout",
     "output_type": "stream",
     "text": [
      "accuracy :  0.8\n",
      "mean_squared_error:  0.2\n"
     ]
    },
    {
     "name": "stderr",
     "output_type": "stream",
     "text": [
      "c:\\users\\h p\\appdata\\local\\programs\\python\\python39\\lib\\site-packages\\sklearn\\utils\\validation.py:63: DataConversionWarning: A column-vector y was passed when a 1d array was expected. Please change the shape of y to (n_samples, ), for example using ravel().\n",
      "  return f(*args, **kwargs)\n"
     ]
    }
   ],
   "source": [
    "model3 = svm.SVC(kernel=\"linear\")\n",
    "model3.fit(x_train_std,y_train)\n",
    "y_model3_std = model3.predict(x_test_std)\n",
    "error3_accuracy = mc.accuracy_score(y_test,y_model3_std)\n",
    "print(\"accuracy : \",error3_accuracy)\n",
    "error3_mean_squared = mc.mean_squared_error(y_test,y_model3_std)\n",
    "print(\"mean_squared_error: \",error3_mean_squared)"
   ]
  },
  {
   "cell_type": "markdown",
   "id": "cffa6408",
   "metadata": {},
   "source": [
    "# Model4 ( SVM ) :"
   ]
  },
  {
   "cell_type": "markdown",
   "id": "d88896bd",
   "metadata": {},
   "source": [
    "# - kernel = \"poly\""
   ]
  },
  {
   "cell_type": "code",
   "execution_count": 15,
   "id": "56ed1b6e",
   "metadata": {},
   "outputs": [
    {
     "name": "stdout",
     "output_type": "stream",
     "text": [
      "accuracy :  0.75\n",
      "mean_squared_error:  0.25\n"
     ]
    },
    {
     "name": "stderr",
     "output_type": "stream",
     "text": [
      "c:\\users\\h p\\appdata\\local\\programs\\python\\python39\\lib\\site-packages\\sklearn\\utils\\validation.py:63: DataConversionWarning: A column-vector y was passed when a 1d array was expected. Please change the shape of y to (n_samples, ), for example using ravel().\n",
      "  return f(*args, **kwargs)\n"
     ]
    }
   ],
   "source": [
    "model4 = svm.SVC(kernel=\"poly\",degree=3)\n",
    "model4.fit(x_train_std,y_train)\n",
    "y_model4_std = model4.predict(x_test_std)\n",
    "error4_accuracy = mc.accuracy_score(y_test,y_model4_std)\n",
    "print(\"accuracy : \",error4_accuracy)\n",
    "error4_mean_squared = mc.mean_squared_error(y_test,y_model4_std)\n",
    "print(\"mean_squared_error: \",error4_mean_squared)"
   ]
  },
  {
   "cell_type": "markdown",
   "id": "a5a0c202",
   "metadata": {},
   "source": [
    "The accuracy of models: \n",
    "    - model1_(KNN) ---> 73.3%, \n",
    "    - model2_(NB) ---> 68.3%, \n",
    "    - model3_(SVM_linear) ---> 80%, \n",
    "    - model4_(SVM_poly) ---> 75% ."
   ]
  },
  {
   "cell_type": "markdown",
   "id": "1e16d010",
   "metadata": {},
   "source": [
    "So, The project will depend on the model3 "
   ]
  }
 ],
 "metadata": {
  "kernelspec": {
   "display_name": "Python 3 (ipykernel)",
   "language": "python",
   "name": "python3"
  },
  "language_info": {
   "codemirror_mode": {
    "name": "ipython",
    "version": 3
   },
   "file_extension": ".py",
   "mimetype": "text/x-python",
   "name": "python",
   "nbconvert_exporter": "python",
   "pygments_lexer": "ipython3",
   "version": "3.9.6"
  }
 },
 "nbformat": 4,
 "nbformat_minor": 5
}
